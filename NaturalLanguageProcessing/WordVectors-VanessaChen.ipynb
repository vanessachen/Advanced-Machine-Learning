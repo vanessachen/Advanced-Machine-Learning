{
 "cells": [
  {
   "cell_type": "markdown",
   "metadata": {},
   "source": [
    "## Installation\n",
    "\n",
    "1. If you haven't already installed Python3, get it from [Python.org](https://www.python.org/downloads/)\n",
    "1. If you haven't already installed Jupyter Notebook, run `python3 -m pip install jupyter`\n",
    "1. In Terminal, cd to the folder in which you downloaded this file and run `jupyter notebook`. This should open up a page in your web browser that shows all of the files in the current directory, so that you can open this file. You will need to leave this Terminal window up and running and use a different one for the rest of the instructions.\n",
    "1. Install the Gensim word2vec Python implementation: `pip3 install --upgrade gensim`\n",
    "1. Get the trained model (1billion_word_vectors.zip) from me via airdrop or flashdrive and put it in the same folder as the ipynb file, the folder in which you are running the jupyter notebook command.\n",
    "1. Unzip the trained model file. You should now have three files in the folder (if zip created a new folder, mor:\n",
    "    * 1billion_word_vectors\n",
    "    * 1billion_word_vectors.syn1neg.npy\n",
    "    * 1billion_word_vectors.wv.syn0.npy\n",
    "1. If you didn't install keras last time, install it now\n",
    "    1. Install the tensorflow machine learning library by typing the following into Terminal:\n",
    "    `pip3 install --upgrade tensorflow`\n",
    "    1. Install the keras machine learning library by typing the following into Terminal:\n",
    "    `pip3 install keras`\n"
   ]
  },
  {
   "cell_type": "markdown",
   "metadata": {},
   "source": [
    "## Extra Details -- Do Not Do This\n",
    "This took awhile, which is why I'm giving you the trained file rather than having you do this. But just in case you're curious, here is how to create the trained model file.\n",
    "1. Download the corpus of sentences from [http://www.statmt.org/lm-benchmark/1-billion-word-language-modeling-benchmark-r13output.tar.gz](http://www.statmt.org/lm-benchmark/1-billion-word-language-modeling-benchmark-r13output.tar.gz)\n",
    "1. Unzip and unarchive the file: `tar zxf 1-billion-word-language-modeling-benchmark-r13output.tar.gz` \n",
    "1. Run the following Python code:\n",
    "    ```\n",
    "    from gensim.models import word2vec\n",
    "    import os\n",
    "\n",
    "    corpus_dir = '1-billion-word-language-modeling-benchmark-r13output/training-monolingual.tokenized.shuffled'\n",
    "    sentences = word2vec.PathLineSentences(corpus_dir)\n",
    "    model = word2vec.Word2Vec(sentences) # just use all of the default settings for now\n",
    "    model.save('1billion_word_vectors')\n",
    "    ```"
   ]
  },
  {
   "cell_type": "markdown",
   "metadata": {},
   "source": [
    "## Documentation/Sources\n",
    "* [https://radimrehurek.com/gensim/models/word2vec.html](https://radimrehurek.com/gensim/models/word2vec.html) for more information about how to use gensim word2vec in general\n",
    "* [https://codekansas.github.io/blog/2016/gensim.html](https://codekansas.github.io/blog/2016/gensim.html) for information about using it to create embedding layers for neural networks.\n",
    "* [https://machinelearningmastery.com/sequence-classification-lstm-recurrent-neural-networks-python-keras/](https://machinelearningmastery.com/sequence-classification-lstm-recurrent-neural-networks-python-keras/) for information on sequence classification with keras\n",
    "* [https://blog.keras.io/using-pre-trained-word-embeddings-in-a-keras-model.html](https://blog.keras.io/using-pre-trained-word-embeddings-in-a-keras-model.html) for using pre-trained embeddings with keras (though the syntax they use for the model layers is different than most other tutorials I've seen).\n",
    "* [https://keras.io/](https://keras.io/) Keras API documentation"
   ]
  },
  {
   "cell_type": "markdown",
   "metadata": {},
   "source": [
    "### Brief Note on Word Vectors:\n",
    "The word vector gives the word a location that captures how it relates to other words: i.e. synonyms or words that play similar roles"
   ]
  },
  {
   "cell_type": "markdown",
   "metadata": {},
   "source": [
    "## Load the trained word vectors"
   ]
  },
  {
   "cell_type": "code",
   "execution_count": 1,
   "metadata": {},
   "outputs": [],
   "source": [
    "from gensim.models import word2vec"
   ]
  },
  {
   "cell_type": "markdown",
   "metadata": {},
   "source": [
    "Load the trained model file into memory"
   ]
  },
  {
   "cell_type": "code",
   "execution_count": 2,
   "metadata": {
    "collapsed": true
   },
   "outputs": [],
   "source": [
    "wv_model = word2vec.Word2Vec.load('1billion_word_vectors')"
   ]
  },
  {
   "cell_type": "markdown",
   "metadata": {},
   "source": [
    "Since we do not need to continue training the model, we can save memory by keeping the parts we need (the word vectors themselves) and getting rid of the rest of the model."
   ]
  },
  {
   "cell_type": "code",
   "execution_count": 3,
   "metadata": {
    "collapsed": true
   },
   "outputs": [],
   "source": [
    "wordvec = wv_model.wv #takes only the word vectors from the file\n",
    "del wv_model"
   ]
  },
  {
   "cell_type": "markdown",
   "metadata": {},
   "source": [
    "## Exploration of word vectors\n",
    "Now we can look at some of the relationships between different words.\n",
    "\n",
    "Like [the gensim documentation](https://radimrehurek.com/gensim/models/word2vec.html), let's start with a famous example: king + woman - man"
   ]
  },
  {
   "cell_type": "code",
   "execution_count": 4,
   "metadata": {},
   "outputs": [
    {
     "data": {
      "text/plain": [
       "[('queen', 0.8407387733459473),\n",
       " ('monarch', 0.7541723251342773),\n",
       " ('prince', 0.7350202798843384),\n",
       " ('princess', 0.6969081163406372),\n",
       " ('empress', 0.677180290222168),\n",
       " ('sultan', 0.6649758815765381),\n",
       " ('Chakri', 0.6451101899147034),\n",
       " ('goddess', 0.6439394950866699),\n",
       " ('ruler', 0.6275453567504883),\n",
       " ('kings', 0.6273428201675415)]"
      ]
     },
     "execution_count": 4,
     "metadata": {},
     "output_type": "execute_result"
    }
   ],
   "source": [
    "wordvec.most_similar(positive=['king', 'woman'], negative=['man'])"
   ]
  },
  {
   "cell_type": "markdown",
   "metadata": {},
   "source": [
    "Another Word Vector Example: "
   ]
  },
  {
   "cell_type": "code",
   "execution_count": 5,
   "metadata": {},
   "outputs": [
    {
     "data": {
      "text/plain": [
       "[('nurse', 0.7360476851463318),\n",
       " ('caseworker', 0.6824815273284912),\n",
       " ('receptionist', 0.6763378381729126),\n",
       " ('firefighter', 0.6593405604362488),\n",
       " ('midwife', 0.653285026550293),\n",
       " ('student', 0.6520328521728516),\n",
       " ('janitor', 0.6445921659469604),\n",
       " ('roofer', 0.6432132720947266),\n",
       " ('labourer', 0.6422997713088989),\n",
       " ('technician', 0.6403226852416992)]"
      ]
     },
     "execution_count": 5,
     "metadata": {},
     "output_type": "execute_result"
    }
   ],
   "source": [
    "wordvec.most_similar(positive=['worker', 'woman'], negative=['man'])"
   ]
  },
  {
   "cell_type": "code",
   "execution_count": 6,
   "metadata": {},
   "outputs": [
    {
     "data": {
      "text/plain": [
       "[('african', 0.6535460948944092),\n",
       " ('labourer', 0.56971675157547),\n",
       " ('student', 0.5687010288238525),\n",
       " ('butte', 0.5473869442939758),\n",
       " ('florist', 0.5461958646774292),\n",
       " ('educator', 0.5448765158653259),\n",
       " ('british', 0.5441399812698364),\n",
       " ('electrician', 0.5435316562652588),\n",
       " ('employee', 0.5426956415176392),\n",
       " ('gamekeeper', 0.5414238572120667)]"
      ]
     },
     "execution_count": 6,
     "metadata": {},
     "output_type": "execute_result"
    }
   ],
   "source": [
    "wordvec.most_similar(positive=['asian', 'worker'])"
   ]
  },
  {
   "cell_type": "code",
   "execution_count": 7,
   "metadata": {},
   "outputs": [
    {
     "data": {
      "text/plain": [
       "'laptop'"
      ]
     },
     "execution_count": 7,
     "metadata": {},
     "output_type": "execute_result"
    }
   ],
   "source": [
    "wordvec.doesnt_match(['red', 'purple', 'laptop', 'turquoise', 'ruby']) #finding the word that doesn't match"
   ]
  },
  {
   "cell_type": "markdown",
   "metadata": {},
   "source": [
    "How far apart are different words?"
   ]
  },
  {
   "cell_type": "code",
   "execution_count": 8,
   "metadata": {},
   "outputs": [
    {
     "data": {
      "text/plain": [
       "array([0.205414  , 0.36557418, 0.65974367], dtype=float32)"
      ]
     },
     "execution_count": 8,
     "metadata": {},
     "output_type": "execute_result"
    }
   ],
   "source": [
    "wordvec.distances('laptop', ['computer', 'phone', 'rabbit']) \n",
    "#comparing the difference between laptop and the three words in the array"
   ]
  },
  {
   "cell_type": "markdown",
   "metadata": {},
   "source": [
    "Let's see what one of these vectors actually looks like."
   ]
  },
  {
   "cell_type": "code",
   "execution_count": 9,
   "metadata": {},
   "outputs": [
    {
     "data": {
      "text/plain": [
       "array([ 0.50756323, -2.8890731 ,  0.9743826 , -0.60089743, -0.23762947,\n",
       "       -2.324566  , -0.64634913, -0.66476715, -2.3432739 ,  1.4446437 ,\n",
       "       -0.15542823,  1.8248576 ,  1.1309539 , -0.21071543, -0.82512087,\n",
       "       -0.2773584 , -0.1973424 , -0.5337731 ,  2.1143918 ,  1.0673765 ,\n",
       "       -0.2341243 ,  1.5292411 ,  0.66977274,  1.1214821 , -0.57710004,\n",
       "       -0.02504024,  0.6074397 ,  0.19416903, -1.1265849 , -0.6618393 ,\n",
       "        1.7525213 ,  1.6232891 , -0.3886833 , -1.1867149 ,  0.45511633,\n",
       "        1.4240934 , -0.87929034, -1.8920534 ,  2.6986032 , -0.5277589 ,\n",
       "        2.1202435 ,  0.62670445,  1.0352231 ,  1.4998924 ,  2.5809426 ,\n",
       "        0.74698585, -0.07757699, -0.67074645,  1.6887746 , -0.22081567,\n",
       "        1.2107906 ,  0.16741815,  3.3496742 ,  1.1832954 ,  0.4423463 ,\n",
       "        0.04771314, -0.14557275, -1.3345221 ,  1.3236852 ,  2.0154989 ,\n",
       "       -0.6510446 ,  0.21808812, -0.31578887, -1.822629  ,  0.8436349 ,\n",
       "       -1.1500564 ,  1.24044   , -2.6430037 ,  1.0617311 ,  1.2009143 ,\n",
       "        2.910486  ,  0.7534945 , -0.74546903, -0.12999983,  0.62368834,\n",
       "       -0.34848922,  0.9471761 ,  2.3520417 ,  2.1063364 , -1.3959917 ,\n",
       "        0.01752609,  0.92311406,  0.3009809 , -1.680638  ,  0.47537982,\n",
       "       -1.3736504 , -0.19134097,  1.03852   , -1.8218307 ,  1.7354008 ,\n",
       "        0.6050655 , -3.3719819 ,  0.3659331 , -0.71509886, -1.7725863 ,\n",
       "       -3.8122861 ,  2.9105155 , -0.89803743,  1.2961383 , -0.88507044],\n",
       "      dtype=float32)"
      ]
     },
     "execution_count": 9,
     "metadata": {},
     "output_type": "execute_result"
    }
   ],
   "source": [
    "wordvec['textbook'] #returns a multi-dimensional array (each one represents 100 diff dimensions)\n",
    "#though there are 100 dimensions shown, there can be 'hidden' vectors that the model can use to locate different\n",
    "#features that may not be represented here "
   ]
  },
  {
   "cell_type": "markdown",
   "metadata": {},
   "source": [
    "What other methods are available to us?"
   ]
  },
  {
   "cell_type": "code",
   "execution_count": 10,
   "metadata": {
    "collapsed": true,
    "scrolled": false
   },
   "outputs": [],
   "source": [
    "#help(wordvec)"
   ]
  },
  {
   "cell_type": "markdown",
   "metadata": {},
   "source": [
    "# Exercise: Explore Word Vectors\n",
    "What other interesting relationship can you find, using the methods used in the examples above or anything you find in the help message?"
   ]
  },
  {
   "cell_type": "code",
   "execution_count": 11,
   "metadata": {},
   "outputs": [
    {
     "data": {
      "text/plain": [
       "[('woman', 0.9145064353942871),\n",
       " ('teenager', 0.8810972571372986),\n",
       " ('boy', 0.8332439661026001),\n",
       " ('girl', 0.8199804425239563),\n",
       " ('policeman', 0.7857508659362793),\n",
       " ('burglar', 0.7623993754386902),\n",
       " ('pensioner', 0.7541862726211548),\n",
       " ('toddler', 0.7527749538421631),\n",
       " ('soldier', 0.7502890825271606),\n",
       " ('thief', 0.7498296499252319)]"
      ]
     },
     "execution_count": 11,
     "metadata": {},
     "output_type": "execute_result"
    }
   ],
   "source": [
    "wordvec.similar_by_word('man')"
   ]
  },
  {
   "cell_type": "code",
   "execution_count": 12,
   "metadata": {},
   "outputs": [
    {
     "data": {
      "text/plain": [
       "0.9145063682687546"
      ]
     },
     "execution_count": 12,
     "metadata": {},
     "output_type": "execute_result"
    }
   ],
   "source": [
    "wordvec.similarity('woman','man')"
   ]
  },
  {
   "cell_type": "markdown",
   "metadata": {},
   "source": [
    "## Using the word vectors in an embedding layer of a Keras model"
   ]
  },
  {
   "cell_type": "code",
   "execution_count": 13,
   "metadata": {},
   "outputs": [
    {
     "name": "stderr",
     "output_type": "stream",
     "text": [
      "Using TensorFlow backend.\n",
      "/Library/Frameworks/Python.framework/Versions/3.6/lib/python3.6/importlib/_bootstrap.py:219: RuntimeWarning: compiletime version 3.5 of module 'tensorflow.python.framework.fast_tensor_util' does not match runtime version 3.6\n",
      "  return f(*args, **kwds)\n"
     ]
    }
   ],
   "source": [
    "from keras.models import Sequential\n",
    "import numpy"
   ]
  },
  {
   "cell_type": "markdown",
   "metadata": {},
   "source": [
    "You may have noticed in the help text for wordvec that it has a built-in method for converting into a Keras embedding layer."
   ]
  },
  {
   "cell_type": "code",
   "execution_count": 14,
   "metadata": {
    "collapsed": true
   },
   "outputs": [],
   "source": [
    "# Returns a Keras 'Embedding' layer with weights set as the wordvec model's learned word embeddings\n",
    "# embedding is getting the words into a vector space\n",
    "test_embedding_layer = wordvec.get_keras_embedding()\n",
    "test_embedding_layer.input_length = 1"
   ]
  },
  {
   "cell_type": "code",
   "execution_count": 15,
   "metadata": {
    "collapsed": true
   },
   "outputs": [],
   "source": [
    "embedding_model = Sequential()\n",
    "embedding_model.add(test_embedding_layer)\n",
    "#using the embedding model transforms the wordvec into a format understandable for Keras as an input\n",
    "# the model will take as input an integer matrix of size (batch, input_length)."
   ]
  },
  {
   "cell_type": "markdown",
   "metadata": {},
   "source": [
    "But how do we actually use this? If you look at the [Keras Embedding Layer documentation](https://keras.io/layers/embeddings/) you might notice that it takes numerical input, not strings. How do we know which number corresponds to a particular word? In addition to having a vector, each word has an index:"
   ]
  },
  {
   "cell_type": "code",
   "execution_count": 16,
   "metadata": {},
   "outputs": [
    {
     "data": {
      "text/plain": [
       "30438"
      ]
     },
     "execution_count": 16,
     "metadata": {},
     "output_type": "execute_result"
    }
   ],
   "source": [
    "wordvec.vocab['python'].index #another way to categorize the vectors"
   ]
  },
  {
   "cell_type": "markdown",
   "metadata": {},
   "source": [
    "Let's see if we get the same vector from the embedding layer as we get from our word vector object."
   ]
  },
  {
   "cell_type": "code",
   "execution_count": 17,
   "metadata": {},
   "outputs": [
    {
     "data": {
      "text/plain": [
       "array([-1.1750487e+00,  2.3066440e-04, -6.0706180e-01, -1.1156354e+00,\n",
       "       -1.0580894e+00, -2.7154784e+00, -3.6140988e+00, -1.0810910e+00,\n",
       "        1.1234255e+00, -7.7326834e-01, -1.3322397e+00,  9.2905626e-02,\n",
       "       -2.4488842e+00, -1.7817341e-01, -3.5459950e+00, -1.7320968e+00,\n",
       "        1.9397168e+00, -6.3734710e-01,  2.3254216e+00, -1.3535864e+00,\n",
       "       -1.4451812e-01, -2.4297442e+00,  1.5498929e+00,  8.1969726e-01,\n",
       "        9.0982294e-01, -6.6116208e-01,  3.8905215e-01,  3.3855909e-01,\n",
       "       -7.5454485e-01, -1.0352553e+00, -2.5936973e+00,  1.2103225e+00,\n",
       "       -3.0236175e+00,  3.0580134e+00, -3.9140179e+00,  4.0223894e-01,\n",
       "        1.7356061e+00,  9.0976155e-01,  2.0956397e-02,  2.0190549e+00,\n",
       "        4.5332021e-01, -1.6634842e+00, -4.8180079e-01,  2.0414692e-01,\n",
       "       -5.9267312e-01, -1.4182589e+00, -9.7301149e-01,  5.1611459e-01,\n",
       "        2.0727324e+00,  2.0064230e+00, -7.5027935e-02, -1.1723986e+00,\n",
       "       -8.6943096e-01,  1.7028141e+00,  2.2190344e+00,  9.3605727e-01,\n",
       "       -2.3281140e+00, -1.1469719e+00, -7.4651584e-02, -1.3099817e+00,\n",
       "       -8.7831926e-01,  1.0963516e+00, -8.0801606e-01,  2.0202060e+00,\n",
       "       -2.8135295e+00, -1.5866054e+00,  1.7901597e+00, -1.9552002e+00,\n",
       "        8.5110778e-01, -4.1770697e+00,  5.4225093e-01, -1.9657525e+00,\n",
       "        2.0231185e+00, -1.8881788e+00,  5.9491843e-01,  8.3414179e-01,\n",
       "       -1.6628648e+00,  3.3324170e-01,  2.7011216e+00,  2.1156013e+00,\n",
       "        5.9008741e-01, -9.1122669e-01, -2.8129277e-01, -8.5378832e-01,\n",
       "        6.6145062e-01,  4.0669715e-01,  1.1161113e+00, -2.4905500e+00,\n",
       "        1.2948816e+00,  7.9231268e-01,  8.6634362e-01, -2.0348356e+00,\n",
       "        2.6159151e+00,  1.5450108e+00, -3.0899661e+00, -6.3572246e-01,\n",
       "       -2.5528045e+00,  3.4042710e-01, -2.1339917e+00, -3.5500580e-01],\n",
       "      dtype=float32)"
      ]
     },
     "execution_count": 17,
     "metadata": {},
     "output_type": "execute_result"
    }
   ],
   "source": [
    "wordvec['python'] #it seems to match "
   ]
  },
  {
   "cell_type": "code",
   "execution_count": 18,
   "metadata": {},
   "outputs": [
    {
     "data": {
      "text/plain": [
       "array([[[-1.1750487e+00,  2.3066440e-04, -6.0706180e-01, -1.1156354e+00,\n",
       "         -1.0580894e+00, -2.7154784e+00, -3.6140988e+00, -1.0810910e+00,\n",
       "          1.1234255e+00, -7.7326834e-01, -1.3322397e+00,  9.2905626e-02,\n",
       "         -2.4488842e+00, -1.7817341e-01, -3.5459950e+00, -1.7320968e+00,\n",
       "          1.9397168e+00, -6.3734710e-01,  2.3254216e+00, -1.3535864e+00,\n",
       "         -1.4451812e-01, -2.4297442e+00,  1.5498929e+00,  8.1969726e-01,\n",
       "          9.0982294e-01, -6.6116208e-01,  3.8905215e-01,  3.3855909e-01,\n",
       "         -7.5454485e-01, -1.0352553e+00, -2.5936973e+00,  1.2103225e+00,\n",
       "         -3.0236175e+00,  3.0580134e+00, -3.9140179e+00,  4.0223894e-01,\n",
       "          1.7356061e+00,  9.0976155e-01,  2.0956397e-02,  2.0190549e+00,\n",
       "          4.5332021e-01, -1.6634842e+00, -4.8180079e-01,  2.0414692e-01,\n",
       "         -5.9267312e-01, -1.4182589e+00, -9.7301149e-01,  5.1611459e-01,\n",
       "          2.0727324e+00,  2.0064230e+00, -7.5027935e-02, -1.1723986e+00,\n",
       "         -8.6943096e-01,  1.7028141e+00,  2.2190344e+00,  9.3605727e-01,\n",
       "         -2.3281140e+00, -1.1469719e+00, -7.4651584e-02, -1.3099817e+00,\n",
       "         -8.7831926e-01,  1.0963516e+00, -8.0801606e-01,  2.0202060e+00,\n",
       "         -2.8135295e+00, -1.5866054e+00,  1.7901597e+00, -1.9552002e+00,\n",
       "          8.5110778e-01, -4.1770697e+00,  5.4225093e-01, -1.9657525e+00,\n",
       "          2.0231185e+00, -1.8881788e+00,  5.9491843e-01,  8.3414179e-01,\n",
       "         -1.6628648e+00,  3.3324170e-01,  2.7011216e+00,  2.1156013e+00,\n",
       "          5.9008741e-01, -9.1122669e-01, -2.8129277e-01, -8.5378832e-01,\n",
       "          6.6145062e-01,  4.0669715e-01,  1.1161113e+00, -2.4905500e+00,\n",
       "          1.2948816e+00,  7.9231268e-01,  8.6634362e-01, -2.0348356e+00,\n",
       "          2.6159151e+00,  1.5450108e+00, -3.0899661e+00, -6.3572246e-01,\n",
       "         -2.5528045e+00,  3.4042710e-01, -2.1339917e+00, -3.5500580e-01]]],\n",
       "      dtype=float32)"
      ]
     },
     "execution_count": 18,
     "metadata": {},
     "output_type": "execute_result"
    }
   ],
   "source": [
    "embedding_model.predict(numpy.array([[30438]]))"
   ]
  },
  {
   "cell_type": "markdown",
   "metadata": {},
   "source": [
    "Looks good, right? But let's not waste our time when the computer could tell us definitively and quickly:"
   ]
  },
  {
   "cell_type": "code",
   "execution_count": 19,
   "metadata": {},
   "outputs": [
    {
     "data": {
      "text/plain": [
       "array([ True,  True,  True,  True,  True,  True,  True,  True,  True,\n",
       "        True,  True,  True,  True,  True,  True,  True,  True,  True,\n",
       "        True,  True,  True,  True,  True,  True,  True,  True,  True,\n",
       "        True,  True,  True,  True,  True,  True,  True,  True,  True,\n",
       "        True,  True,  True,  True,  True,  True,  True,  True,  True,\n",
       "        True,  True,  True,  True,  True,  True,  True,  True,  True,\n",
       "        True,  True,  True,  True,  True,  True,  True,  True,  True,\n",
       "        True,  True,  True,  True,  True,  True,  True,  True,  True,\n",
       "        True,  True,  True,  True,  True,  True,  True,  True,  True,\n",
       "        True,  True,  True,  True,  True,  True,  True,  True,  True,\n",
       "        True,  True,  True,  True,  True,  True,  True,  True,  True,\n",
       "        True])"
      ]
     },
     "execution_count": 19,
     "metadata": {},
     "output_type": "execute_result"
    }
   ],
   "source": [
    "embedding_model.predict(numpy.array([[wordvec.vocab['python'].index]]))[0][0] == wordvec['python']\n",
    "#using the embedding_model instead because it is in the proper input format for Keras"
   ]
  },
  {
   "cell_type": "markdown",
   "metadata": {},
   "source": [
    "Now we have a way to turn words into word vectors with Keras layers. Yes! Time to get some data."
   ]
  },
  {
   "cell_type": "markdown",
   "metadata": {},
   "source": [
    "## The IMDB Dataset\n",
    "The [IMDB dataset](https://keras.io/datasets/#imdb-movie-reviews-sentiment-classification) consists of movie reviews that have been marked as positive or negative. (There is also a built-in dataset of [Reuters newswires](https://keras.io/datasets/#reuters-newswire-topics-classification) that have been classified by topic.)"
   ]
  },
  {
   "cell_type": "code",
   "execution_count": 20,
   "metadata": {
    "collapsed": true
   },
   "outputs": [],
   "source": [
    "from keras.datasets import imdb\n",
    "(x_train, y_train), (x_test, y_test) = imdb.load_data()"
   ]
  },
  {
   "cell_type": "markdown",
   "metadata": {},
   "source": [
    "It looks like our labels consists of 0 or 1, which makes sense for positive and negative."
   ]
  },
  {
   "cell_type": "code",
   "execution_count": 21,
   "metadata": {},
   "outputs": [
    {
     "name": "stdout",
     "output_type": "stream",
     "text": [
      "[1 0 0 1 0 0 1 0 1]\n"
     ]
    }
   ],
   "source": [
    "print(y_train[0:9])\n",
    "#print(max(y_train))\n",
    "#print(min(y_train))"
   ]
  },
  {
   "cell_type": "markdown",
   "metadata": {},
   "source": [
    "But x is a bit more trouble. The words have already been converted to numbers -- numbers that have nothing to do with the word embeddings we spent time learning!"
   ]
  },
  {
   "cell_type": "code",
   "execution_count": 22,
   "metadata": {},
   "outputs": [
    {
     "name": "stdout",
     "output_type": "stream",
     "text": [
      "[1, 14, 22, 16, 43, 530, 973, 1622, 1385, 65, 458, 4468, 66, 3941, 4, 173, 36, 256, 5, 25, 100, 43, 838, 112, 50, 670, 22665, 9, 35, 480, 284, 5, 150, 4, 172, 112, 167, 21631, 336, 385, 39, 4, 172, 4536, 1111, 17, 546, 38, 13, 447, 4, 192, 50, 16, 6, 147, 2025, 19, 14, 22, 4, 1920, 4613, 469, 4, 22, 71, 87, 12, 16, 43, 530, 38, 76, 15, 13, 1247, 4, 22, 17, 515, 17, 12, 16, 626, 18, 19193, 5, 62, 386, 12, 8, 316, 8, 106, 5, 4, 2223, 5244, 16, 480, 66, 3785, 33, 4, 130, 12, 16, 38, 619, 5, 25, 124, 51, 36, 135, 48, 25, 1415, 33, 6, 22, 12, 215, 28, 77, 52, 5, 14, 407, 16, 82, 10311, 8, 4, 107, 117, 5952, 15, 256, 4, 31050, 7, 3766, 5, 723, 36, 71, 43, 530, 476, 26, 400, 317, 46, 7, 4, 12118, 1029, 13, 104, 88, 4, 381, 15, 297, 98, 32, 2071, 56, 26, 141, 6, 194, 7486, 18, 4, 226, 22, 21, 134, 476, 26, 480, 5, 144, 30, 5535, 18, 51, 36, 28, 224, 92, 25, 104, 4, 226, 65, 16, 38, 1334, 88, 12, 16, 283, 5, 16, 4472, 113, 103, 32, 15, 16, 5345, 19, 178, 32]\n"
     ]
    }
   ],
   "source": [
    "print(x_train[0]) #relates to word frequency in that data set "
   ]
  },
  {
   "cell_type": "code",
   "execution_count": 23,
   "metadata": {
    "collapsed": true
   },
   "outputs": [],
   "source": [
    "#can retreive words by using the built-in keras functions \n",
    "#help(imdb)"
   ]
  },
  {
   "cell_type": "code",
   "execution_count": 24,
   "metadata": {
    "collapsed": true
   },
   "outputs": [],
   "source": [
    "imdb_offset = 3\n",
    "imdb_map = dict((index + imdb_offset, word) for (word, index) in imdb.get_word_index().items())\n",
    "imdb_map[0] = 'PADDING' #to keep same input matrix size - for anything below input size\n",
    "imdb_map[1] = 'START' #to show beginning of review\n",
    "imdb_map[2] = 'UNKNOWN'#if you only want the most common words, it will assign \"2\" to whatever you don't want"
   ]
  },
  {
   "cell_type": "markdown",
   "metadata": {},
   "source": [
    "Reference [this stack overflow post](https://stackoverflow.com/questions/42821330/restore-original-text-from-keras-s-imdb-dataset) for more info on the indeces, otherwise the imdb_map would return gibberish"
   ]
  },
  {
   "cell_type": "code",
   "execution_count": 25,
   "metadata": {
    "collapsed": true
   },
   "outputs": [],
   "source": [
    "reviewString = ' '.join([imdb_map[word_index] for word_index in x_train[0]])"
   ]
  },
  {
   "cell_type": "markdown",
   "metadata": {},
   "source": [
    "## Train our IMDB word vectors"
   ]
  },
  {
   "cell_type": "code",
   "execution_count": 26,
   "metadata": {
    "collapsed": true
   },
   "outputs": [],
   "source": [
    "#take into account the offset of the padding\n",
    "train_sentences = [['PADDING'] + [imdb_map[word_index] for word_index in review] for review in x_train]\n",
    "test_sentences = [['PADDING'] + [imdb_map[word_index] for word_index in review] for review in x_test]"
   ]
  },
  {
   "cell_type": "code",
   "execution_count": 27,
   "metadata": {
    "collapsed": true
   },
   "outputs": [],
   "source": [
    "imdb_wv_model = word2vec.Word2Vec(train_sentences + test_sentences + ['UNKNOWN'], min_count=1)\n",
    "#setting model to the algorithm, treating each review as one sentence \n",
    "#word2vec = algorithm for coming up with word vectors per sentence"
   ]
  },
  {
   "cell_type": "code",
   "execution_count": 28,
   "metadata": {
    "collapsed": true
   },
   "outputs": [],
   "source": [
    "imdb_wordvec = imdb_wv_model.wv\n",
    "del imdb_wv_model #remove anything besides the word vectors \n",
    "#we don't need the other stuff if you're not going to keep training "
   ]
  },
  {
   "cell_type": "markdown",
   "metadata": {},
   "source": [
    "## Process the dataset\n",
    "We want all inputs the same length (we'll see how to do variable-length later). This means we need to choose a maximum length for the review, cutting off longer ones and adding padding to shorter ones. What should we make the length? Let's understand our data."
   ]
  },
  {
   "cell_type": "code",
   "execution_count": 29,
   "metadata": {},
   "outputs": [
    {
     "name": "stdout",
     "output_type": "stream",
     "text": [
      "Longest review: 2697 Shortest review: 70\n"
     ]
    }
   ],
   "source": [
    "lengths = [len(review) for review in x_train + x_test]\n",
    "print('Longest review: {} Shortest review: {}'.format(max(lengths), min(lengths)))\n"
   ]
  },
  {
   "cell_type": "markdown",
   "metadata": {},
   "source": [
    "2697 words! Wow. Well, let's see how many reviews would get cut off at a particular cutoff."
   ]
  },
  {
   "cell_type": "code",
   "execution_count": 30,
   "metadata": {},
   "outputs": [
    {
     "name": "stdout",
     "output_type": "stream",
     "text": [
      "8485 reviews out of 25000 are over 500.\n"
     ]
    }
   ],
   "source": [
    "cutoff = 500\n",
    "print('{} reviews out of {} are over {}.'.format(\n",
    "    sum([1 for length in lengths if length > cutoff]), \n",
    "    len(lengths), \n",
    "    cutoff))"
   ]
  },
  {
   "cell_type": "code",
   "execution_count": 31,
   "metadata": {
    "collapsed": true
   },
   "outputs": [],
   "source": [
    "from keras.preprocessing import sequence \n",
    "#sequence is about the inputs\n",
    "#Transform a list of num_samples sequences (lists of scalars) into \n",
    "#a 2D Numpy array of shape  (num_samples, num_timesteps)\n",
    "#num_timesteps is either the maxlen argument if provided, or the length of the longest sequence otherwise\n",
    "x_train_padded = sequence.pad_sequences(x_train, maxlen=cutoff)\n",
    "x_test_padded = sequence.pad_sequences(x_test, maxlen=cutoff)"
   ]
  },
  {
   "cell_type": "markdown",
   "metadata": {},
   "source": [
    "## Classification without using the pre-trained word vectors"
   ]
  },
  {
   "cell_type": "code",
   "execution_count": 32,
   "metadata": {
    "collapsed": true
   },
   "outputs": [],
   "source": [
    "#from keras.models import Sequential\n",
    "#sequential is about the model \n",
    "from keras.layers import Embedding, Conv1D, Dense, Flatten"
   ]
  },
  {
   "cell_type": "markdown",
   "metadata": {},
   "source": [
    "Model definition."
   ]
  },
  {
   "cell_type": "code",
   "execution_count": 33,
   "metadata": {
    "collapsed": true
   },
   "outputs": [],
   "source": [
    "no_vector_model = Sequential()\n",
    "#input_dim = length of vocab (num of unique words)\n",
    "no_vector_model.add(Embedding(input_dim=len(imdb_map), output_dim=100, input_length=cutoff))\n",
    "#5 layers of convo network that can look for 5 different features\n",
    "no_vector_model.add(Conv1D(filters=32, kernel_size=5, activation='relu'))\n",
    "no_vector_model.add(Conv1D(filters=32, kernel_size=5, activation='relu'))\n",
    "no_vector_model.add(Conv1D(filters=32, kernel_size=5, activation='relu'))\n",
    "no_vector_model.add(Conv1D(filters=32, kernel_size=5, activation='relu'))\n",
    "no_vector_model.add(Conv1D(filters=32, kernel_size=5, activation='relu'))\n",
    "no_vector_model.add(Flatten())\n",
    "no_vector_model.add(Dense(units=128, activation='relu'))\n",
    "no_vector_model.add(Dense(units=1, activation='sigmoid')) # because at the end, we want one yes/no answer\n",
    "no_vector_model.compile(loss='binary_crossentropy', optimizer='adam', metrics=['binary_accuracy'])"
   ]
  },
  {
   "cell_type": "markdown",
   "metadata": {},
   "source": [
    "Train the model. __This takes awhile. You might not want to re-run it.__"
   ]
  },
  {
   "cell_type": "code",
   "execution_count": 34,
   "metadata": {},
   "outputs": [
    {
     "name": "stdout",
     "output_type": "stream",
     "text": [
      "Epoch 1/1\n",
      "25000/25000 [==============================] - 153s 6ms/step - loss: 0.4204 - binary_accuracy: 0.7740\n"
     ]
    },
    {
     "data": {
      "text/plain": [
       "<keras.callbacks.History at 0x11179d240>"
      ]
     },
     "execution_count": 34,
     "metadata": {},
     "output_type": "execute_result"
    }
   ],
   "source": [
    "no_vector_model.fit(x_train_padded, y_train, epochs=1, batch_size=64)"
   ]
  },
  {
   "cell_type": "markdown",
   "metadata": {},
   "source": [
    "Assess the model. __This takes awhile. You might not want to re-run it.__"
   ]
  },
  {
   "cell_type": "code",
   "execution_count": 35,
   "metadata": {},
   "outputs": [
    {
     "name": "stdout",
     "output_type": "stream",
     "text": [
      "25000/25000 [==============================] - 40s 2ms/step\n",
      "loss: 0.3238655872821808 accuracy: 0.86388\n"
     ]
    }
   ],
   "source": [
    "#separating tests and training data to make sure we did not over fit the model\n",
    "no_vector_scores = no_vector_model.evaluate(x_test_padded, y_test)\n",
    "print('loss: {} accuracy: {}'.format(*no_vector_scores))"
   ]
  },
  {
   "cell_type": "markdown",
   "metadata": {},
   "source": [
    "It seems that the training data had an accuracy of around .777 while the testing data had an accuracy of around .867"
   ]
  },
  {
   "cell_type": "markdown",
   "metadata": {},
   "source": [
    "# Exercise: Use the word vectors in a full model\n",
    "Using the knowledge about how the imdb dataset and the keras embedding layer represent words, as detailed above, change the model in the three cells above this one to use the word vectors rather than an embedding that keras learns as it goes along.\n",
    "\n",
    "You'll need to swap out the embedding layer and feed in different training data."
   ]
  },
  {
   "cell_type": "code",
   "execution_count": 36,
   "metadata": {
    "collapsed": true
   },
   "outputs": [],
   "source": [
    "imdb_embedding_layer = imdb_wordvec.get_keras_embedding()\n",
    "imdb_embedding_layer.input_length = cutoff"
   ]
  },
  {
   "cell_type": "code",
   "execution_count": 37,
   "metadata": {
    "collapsed": true
   },
   "outputs": [],
   "source": [
    "no_vector_model1 = Sequential()\n",
    "no_vector_model1.add(imdb_embedding_layer)\n",
    "#5 layers of convo network that can look for 5 different features\n",
    "no_vector_model1.add(Conv1D(filters=32, kernel_size=5, activation='relu'))\n",
    "no_vector_model1.add(Conv1D(filters=32, kernel_size=5, activation='relu'))\n",
    "no_vector_model1.add(Conv1D(filters=32, kernel_size=5, activation='relu'))\n",
    "no_vector_model1.add(Conv1D(filters=32, kernel_size=5, activation='relu'))\n",
    "no_vector_model1.add(Conv1D(filters=32, kernel_size=5, activation='relu'))\n",
    "no_vector_model1.add(Flatten())\n",
    "no_vector_model1.add(Dense(units=128, activation='relu'))\n",
    "no_vector_model1.add(Dense(units=1, activation='sigmoid')) # because at the end, we want one yes/no answer\n",
    "no_vector_model1.compile(loss='binary_crossentropy', optimizer='adam', metrics=['binary_accuracy'])"
   ]
  },
  {
   "cell_type": "code",
   "execution_count": 38,
   "metadata": {
    "collapsed": true
   },
   "outputs": [],
   "source": [
    "word_index_array=[]#this array will hold each review, which consists of an array of words\n",
    "for review in x_train_padded:\n",
    "    word_index_arrayReview=[]#this is an array of the words in each review\n",
    "    for word_imdb_num in review:\n",
    "        word = imdb_map[word_imdb_num]#getting the word that corresponds w/ num in imdb dataset\n",
    "        word_index = imdb_wordvec.vocab[word].index #getting the index for each word in the array\n",
    "        word_index_arrayReview.append(word_index)\n",
    "    word_index_array.append(word_index_arrayReview)"
   ]
  },
  {
   "cell_type": "code",
   "execution_count": 39,
   "metadata": {},
   "outputs": [
    {
     "name": "stdout",
     "output_type": "stream",
     "text": [
      "Epoch 1/1\n",
      "25000/25000 [==============================] - 106s 4ms/step - loss: 0.4913 - binary_accuracy: 0.7441\n"
     ]
    },
    {
     "data": {
      "text/plain": [
       "<keras.callbacks.History at 0x118248080>"
      ]
     },
     "execution_count": 39,
     "metadata": {},
     "output_type": "execute_result"
    }
   ],
   "source": [
    "no_vector_model1.fit(word_index_array, y_train, epochs=1, batch_size=64)"
   ]
  },
  {
   "cell_type": "markdown",
   "metadata": {
    "collapsed": true
   },
   "source": [
    "This is an example of the output:\n",
    "Epoch 1/1\n",
    "25000/25000 [==============================] - 106s 4ms/step - loss: 0.4913 - binary_accuracy: 0.7441"
   ]
  },
  {
   "cell_type": "code",
   "execution_count": null,
   "metadata": {
    "collapsed": true
   },
   "outputs": [],
   "source": []
  },
  {
   "cell_type": "code",
   "execution_count": null,
   "metadata": {
    "collapsed": true
   },
   "outputs": [],
   "source": []
  },
  {
   "cell_type": "markdown",
   "metadata": {},
   "source": [
    "# Questions (Optional)\n",
    "1. How does the performance of the two models (with and without trained word vectors) compare?\n",
    "2. Why use one-dimensional convolutional layers for this problem? How do they help?"
   ]
  },
  {
   "cell_type": "code",
   "execution_count": null,
   "metadata": {
    "collapsed": true
   },
   "outputs": [],
   "source": []
  }
 ],
 "metadata": {
  "kernelspec": {
   "display_name": "Python 3",
   "language": "python",
   "name": "python3"
  },
  "language_info": {
   "codemirror_mode": {
    "name": "ipython",
    "version": 3
   },
   "file_extension": ".py",
   "mimetype": "text/x-python",
   "name": "python",
   "nbconvert_exporter": "python",
   "pygments_lexer": "ipython3",
   "version": "3.6.4"
  }
 },
 "nbformat": 4,
 "nbformat_minor": 2
}
