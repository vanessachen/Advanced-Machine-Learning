{
 "cells": [
  {
   "cell_type": "markdown",
   "metadata": {},
   "source": [
    "Original code from https://github.com/eriklindernoren/Keras-GAN/blob/master/dcgan/dcgan.py under the following license:\n",
    "\n",
    "MIT License\n",
    "\n",
    "Copyright (c) 2017 Erik Linder-Norén\n",
    "\n",
    "Permission is hereby granted, free of charge, to any person obtaining a copy\n",
    "of this software and associated documentation files (the \"Software\"), to deal\n",
    "in the Software without restriction, including without limitation the rights\n",
    "to use, copy, modify, merge, publish, distribute, sublicense, and/or sell\n",
    "copies of the Software, and to permit persons to whom the Software is\n",
    "furnished to do so, subject to the following conditions:\n",
    "\n",
    "The above copyright notice and this permission notice shall be included in all\n",
    "copies or substantial portions of the Software.\n",
    "\n",
    "THE SOFTWARE IS PROVIDED \"AS IS\", WITHOUT WARRANTY OF ANY KIND, EXPRESS OR\n",
    "IMPLIED, INCLUDING BUT NOT LIMITED TO THE WARRANTIES OF MERCHANTABILITY,\n",
    "FITNESS FOR A PARTICULAR PURPOSE AND NONINFRINGEMENT. IN NO EVENT SHALL THE\n",
    "AUTHORS OR COPYRIGHT HOLDERS BE LIABLE FOR ANY CLAIM, DAMAGES OR OTHER\n",
    "LIABILITY, WHETHER IN AN ACTION OF CONTRACT, TORT OR OTHERWISE, ARISING FROM,\n",
    "OUT OF OR IN CONNECTION WITH THE SOFTWARE OR THE USE OR OTHER DEALINGS IN THE\n",
    "SOFTWARE.\n"
   ]
  },
  {
   "cell_type": "markdown",
   "metadata": {},
   "source": [
    "The author's model was based on the paper here: https://arxiv.org/pdf/1511.06434.pdf"
   ]
  },
  {
   "cell_type": "markdown",
   "metadata": {},
   "source": [
    "## Before you run this:\n",
    "1. Install h5, with `pip3 install h5py`\n",
    "1. Download the three h5 files: [generator](https://github.com/jennselby/MachineLearningTutorials/raw/master/generator.h5), [discriminator](https://github.com/jennselby/MachineLearningTutorials/raw/master/discriminator.h5), and [combined](https://github.com/jennselby/MachineLearningTutorials/raw/master/combined.h5) and save them in the same folder as this file."
   ]
  },
  {
   "cell_type": "code",
   "execution_count": 9,
   "metadata": {
    "collapsed": true
   },
   "outputs": [],
   "source": [
    "%matplotlib inline"
   ]
  },
  {
   "cell_type": "code",
   "execution_count": 10,
   "metadata": {},
   "outputs": [],
   "source": [
    "from __future__ import print_function, division\n",
    "\n",
    "from keras.datasets import mnist\n",
    "from keras.layers import Input, Dense, Reshape, Flatten, Dropout\n",
    "from keras.layers import BatchNormalization, Activation, ZeroPadding2D\n",
    "from keras.layers.advanced_activations import LeakyReLU\n",
    "from keras.layers.convolutional import UpSampling2D, Conv2D\n",
    "from keras.models import Sequential, Model\n",
    "from keras.optimizers import Adam\n",
    "\n",
    "import matplotlib.pyplot as plt\n",
    "\n",
    "import sys\n",
    "\n",
    "import numpy as np"
   ]
  },
  {
   "cell_type": "code",
   "execution_count": 11,
   "metadata": {
    "collapsed": true
   },
   "outputs": [],
   "source": [
    "# Global Constants\n",
    "images_dir = \"dcgan_images\"\n",
    "img_rows = 28 \n",
    "img_cols = 28\n",
    "channels = 1\n",
    "noise_len = 100"
   ]
  },
  {
   "cell_type": "markdown",
   "metadata": {},
   "source": [
    "## Define functions for creating, training, and using the models"
   ]
  },
  {
   "cell_type": "code",
   "execution_count": 12,
   "metadata": {
    "collapsed": true
   },
   "outputs": [],
   "source": [
    "def build_discriminator():\n",
    "    '''\n",
    "    Put together a CNN that will return a single confidence output.\n",
    "    \n",
    "    returns: the model object\n",
    "    \n",
    "    Role: Tells generator whether or not the image is 'correct'\n",
    "    '''\n",
    "\n",
    "    img_shape = (img_rows, img_cols, channels)\n",
    "\n",
    "    model = Sequential()\n",
    "\n",
    "    model.add(Conv2D(32, kernel_size=3, strides=2, input_shape=img_shape, padding=\"same\"))\n",
    "    model.add(LeakyReLU(alpha=0.2))\n",
    "    model.add(Dropout(0.25))\n",
    "    model.add(Conv2D(64, kernel_size=3, strides=2, padding=\"same\"))\n",
    "    model.add(ZeroPadding2D(padding=((0,1),(0,1))))\n",
    "    model.add(LeakyReLU(alpha=0.2))\n",
    "    model.add(Dropout(0.25))\n",
    "    model.add(BatchNormalization(momentum=0.8))\n",
    "    model.add(Conv2D(128, kernel_size=3, strides=2, padding=\"same\"))\n",
    "    model.add(LeakyReLU(alpha=0.2))\n",
    "    model.add(Dropout(0.25))\n",
    "    model.add(BatchNormalization(momentum=0.8))\n",
    "    model.add(Conv2D(256, kernel_size=3, strides=1, padding=\"same\"))\n",
    "    model.add(LeakyReLU(alpha=0.2))\n",
    "    model.add(Dropout(0.25))\n",
    "\n",
    "    model.add(Flatten())\n",
    "    model.add(Dense(1, activation='sigmoid'))\n",
    "\n",
<<<<<<< HEAD
    "    return model"
   ]
  },
  {
   "cell_type": "code",
   "execution_count": 13,
   "metadata": {
    "collapsed": true
   },
   "outputs": [],
   "source": [
=======
    "    return model\n",
    "\n",
>>>>>>> c388b41b0b6d0e622e89f616442ab1d48e566606
    "def build_generator():\n",
    "    '''\n",
    "    Put together a model that takes in one-dimensional noise and outputs two-dimensional data representing a black\n",
    "    and white image, with -1 for black and 1 for white.\n",
    "    \n",
    "    returns: the model object\n",
    "    \n",
    "    Note: This is what creates these images hoping to be similar to the inputs \n",
    "    '''\n",
    "\n",
    "    noise_shape = (noise_len,)\n",
    "\n",
    "    model = Sequential()\n",
    "\n",
    "    model.add(Dense(128 * 7 * 7, activation=\"relu\", input_shape=noise_shape))\n",
    "    model.add(Reshape((7, 7, 128)))\n",
    "    model.add(BatchNormalization(momentum=0.8))\n",
    "    model.add(UpSampling2D())\n",
    "    model.add(Conv2D(128, kernel_size=3, padding=\"same\"))\n",
    "    model.add(Activation(\"relu\"))\n",
    "    model.add(BatchNormalization(momentum=0.8)) \n",
    "    model.add(UpSampling2D())\n",
    "    model.add(Conv2D(64, kernel_size=3, padding=\"same\"))\n",
    "    model.add(Activation(\"relu\"))\n",
    "    model.add(BatchNormalization(momentum=0.8))\n",
    "    model.add(Conv2D(1, kernel_size=3, padding=\"same\"))\n",
    "    model.add(Activation(\"tanh\"))\n",
    "\n",
<<<<<<< HEAD
    "    return model"
   ]
  },
  {
   "cell_type": "code",
   "execution_count": 14,
   "metadata": {
    "collapsed": true
   },
   "outputs": [],
   "source": [
=======
    "    return model\n",
    "\n",
>>>>>>> c388b41b0b6d0e622e89f616442ab1d48e566606
    "def build_combined():\n",
    "    '''\n",
    "    Puts together a model that combines the discriminator and generator models.\n",
    "    \n",
    "    returns: the generator, discriminator, and combined model objects\n",
    "    '''\n",
    "    \n",
    "    optimizer = Adam(0.0002, 0.5)\n",
    "\n",
    "    # Build and compile the discriminator\n",
    "    discriminator = build_discriminator()\n",
    "    discriminator.compile(loss='binary_crossentropy', \n",
    "                          optimizer=optimizer,\n",
    "                          metrics=['accuracy'])\n",
    "\n",
    "\n",
    "    # Build and compile the generator\n",
    "    generator = build_generator()\n",
    "    generator.compile(loss='binary_crossentropy', optimizer=optimizer)\n",
    "\n",
    "    # The generator takes noise as input and generates images\n",
    "    noise = Input(shape=(noise_len,))\n",
    "    img = generator(noise)\n",
    "    \n",
    "    # For the combined model we will only train the generator\n",
    "    discriminator.trainable = False\n",
    "\n",
    "    # The discriminator takes generated images as input and determines validity\n",
    "    valid = discriminator(img)\n",
    "\n",
    "    # The combined model  (stacked generator and discriminator) takes\n",
    "    # noise as input => generates images => determines validity \n",
    "    combined = Model(inputs=noise, outputs=valid)\n",
    "    combined.compile(loss='binary_crossentropy', optimizer=optimizer)\n",
<<<<<<< HEAD
    "    return generator, discriminator, combined"
   ]
  },
  {
   "cell_type": "code",
   "execution_count": 15,
   "metadata": {
    "collapsed": true
   },
   "outputs": [],
   "source": [
=======
    "    return generator, discriminator, combined\n",
    "\n",
>>>>>>> c388b41b0b6d0e622e89f616442ab1d48e566606
    "def save_imgs(generator, epoch):\n",
    "    '''\n",
    "    Has the generator create images and saves the images in a single file that includes the epoch in the filename.\n",
    "    \n",
    "    inputs:\n",
    "        generator: the generator model object returned by build_combined\n",
    "        epoch: the epoch number (but can be anything that can be represented as a string)\n",
    "    \n",
    "    returns: None\n",
    "    '''\n",
    "    r, c = 5, 5\n",
    "    noise = np.random.normal(0, 1, (r * c, noise_len))\n",
    "    gen_imgs = generator.predict(noise)\n",
    "\n",
    "    # Rescale images 0 - 1\n",
    "    gen_imgs = 0.5 * gen_imgs + 0.5\n",
    "\n",
    "    fig, axs = plt.subplots(r, c)\n",
    "    #fig.suptitle(\"DCGAN: Generated digits\", fontsize=12)\n",
    "    cnt = 0\n",
    "    for i in range(r):\n",
    "        for j in range(c):\n",
    "            axs[i,j].imshow(gen_imgs[cnt, :,:,0], cmap='gray')\n",
    "            axs[i,j].axis('off')\n",
    "            cnt += 1\n",
    "    fig.savefig(os.path.join(images_dir, 'mnist_{}.png'.format(epoch)))\n",
<<<<<<< HEAD
    "    plt.close()"
   ]
  },
  {
   "cell_type": "code",
   "execution_count": 16,
   "metadata": {
    "collapsed": true
   },
   "outputs": [],
   "source": [
=======
    "    plt.close()\n",
    "\n",
>>>>>>> c388b41b0b6d0e622e89f616442ab1d48e566606
    "def train(generator, discriminator, combined, epochs, batch_size=128, save_interval=50):\n",
    "    '''\n",
    "    Trains all model objects\n",
    "    \n",
    "    generator: the generator model object returned by build_combined\n",
    "    discriminator: the discriminator model object returned by build_combined\n",
    "    combined: the combined model object returned by build_combined\n",
    "    epochs: integer, the number of epochs to train for\n",
    "    batch_size: integer, the number of training samples to use at a time\n",
    "    save_interval: integer, will generate and save images when the current epoch % save_interval is 0\n",
    "    \n",
    "    returns: None\n",
    "    '''\n",
    "\n",
    "    # Load the dataset\n",
    "    (X_train, _), (_, _) = mnist.load_data()\n",
    "\n",
    "    # Rescale -1 to 1\n",
    "    X_train = (X_train.astype(np.float32) - 127.5) / 127.5\n",
    "    X_train = np.expand_dims(X_train, axis=3)\n",
    "\n",
    "    half_batch = int(batch_size / 2)\n",
    "\n",
    "    for epoch in range(epochs):\n",
    "\n",
    "        # ---------------------\n",
    "        #  Train Discriminator\n",
    "        # ---------------------\n",
    "\n",
    "        # Select a random half batch of images\n",
    "        idx = np.random.randint(0, X_train.shape[0], half_batch)\n",
    "        imgs = X_train[idx]\n",
    "\n",
    "        # Sample noise and generate a half batch of new images\n",
    "        noise = np.random.normal(0, 1, (half_batch, noise_len))\n",
    "        gen_imgs = generator.predict(noise)\n",
    "\n",
    "        # Train the discriminator (real classified as ones and generated as zeros)\n",
    "        d_loss_real = discriminator.train_on_batch(imgs, np.ones((half_batch, 1)))\n",
    "        d_loss_fake = discriminator.train_on_batch(gen_imgs, np.zeros((half_batch, 1)))\n",
    "\n",
    "        # ---------------------\n",
    "        #  Train Generator\n",
    "        # ---------------------\n",
    "\n",
    "        noise = np.random.normal(0, 1, (batch_size, noise_len))\n",
    "\n",
    "        # Train the generator (wants discriminator to mistake images as real)\n",
    "        g_loss = combined.train_on_batch(noise, np.ones((batch_size, 1)))\n",
    "\n",
    "        # If at save interval => save generated image samples and plot progress\n",
    "        if epoch % save_interval == 0:\n",
    "            # Plot the progress\n",
    "            d_loss = 0.5 * np.add(d_loss_real, d_loss_fake)\n",
    "            print (\"{} [D loss: {}, acc.: {:.2%}] [G loss: {}]\".format(epoch, d_loss[0], d_loss[1], g_loss))\n",
<<<<<<< HEAD
    "            save_imgs(generator, epoch)"
   ]
  },
  {
   "cell_type": "code",
   "execution_count": 17,
   "metadata": {
    "collapsed": true
   },
   "outputs": [],
   "source": [
=======
    "            save_imgs(generator, epoch)\n",
    "            \n",
>>>>>>> c388b41b0b6d0e622e89f616442ab1d48e566606
    "def show_new_image(generator):\n",
    "    '''\n",
    "    Generates and displays a new image\n",
    "    \n",
    "    inputs: generator object model returned from build_combined\n",
    "    \n",
    "    returns: generated image\n",
    "    '''\n",
    "    \n",
    "    noise = np.random.normal(0, 1, (1, noise_len))\n",
    "    gen_img = generator.predict(noise)[0][:,:,0]\n",
    "    \n",
    "    return plt.imshow(gen_img, cmap='gray', vmin=-1, vmax=1)"
   ]
  },
  {
   "cell_type": "markdown",
   "metadata": {},
   "source": [
    "## This is the main section of the code, that actually creates the model objects"
   ]
  },
  {
   "cell_type": "code",
<<<<<<< HEAD
   "execution_count": 18,
   "metadata": {
    "collapsed": true
   },
=======
   "execution_count": 6,
   "metadata": {},
>>>>>>> c388b41b0b6d0e622e89f616442ab1d48e566606
   "outputs": [],
   "source": [
    "# set up directories to hold the images that are saved during training checkpoints.\n",
    "import os\n",
    "\n",
    "if (not os.path.isdir(images_dir)):\n",
    "    os.mkdir(images_dir)"
   ]
  },
  {
   "cell_type": "code",
<<<<<<< HEAD
   "execution_count": 19,
   "metadata": {
    "collapsed": true
   },
=======
   "execution_count": 7,
   "metadata": {},
>>>>>>> c388b41b0b6d0e622e89f616442ab1d48e566606
   "outputs": [],
   "source": [
    "# Uncomment if you want to build your own new models\n",
    "#generator, discriminator, combined = build_combined()"
   ]
  },
  {
   "cell_type": "code",
   "execution_count": 8,
   "metadata": {},
   "outputs": [],
   "source": [
    "# Uncomment if you want to train your model\n",
    "#train(generator, discriminator, combined, epochs=4001, batch_size=32, save_interval=50)"
   ]
  },
  {
   "cell_type": "code",
<<<<<<< HEAD
   "execution_count": 20,
   "metadata": {
    "collapsed": true
   },
=======
   "execution_count": 9,
   "metadata": {},
>>>>>>> c388b41b0b6d0e622e89f616442ab1d48e566606
   "outputs": [],
   "source": [
    "# Uncomment to save your model files\n",
    "#generator.save('generator.h5')\n",
    "#discriminator.save('discriminator.h5')\n",
    "#combined.save('combined.h5')"
   ]
  },
  {
   "cell_type": "markdown",
   "metadata": {},
   "source": [
    "**Make sure that you have downloaded the three h5 files before running the next block.**"
   ]
  },
  {
   "cell_type": "code",
<<<<<<< HEAD
   "execution_count": 21,
=======
   "execution_count": 10,
>>>>>>> c388b41b0b6d0e622e89f616442ab1d48e566606
   "metadata": {},
   "outputs": [
    {
     "name": "stderr",
     "output_type": "stream",
     "text": [
<<<<<<< HEAD
      "Downloading data from https://s3.amazonaws.com/img-datasets/mnist.npz\n",
      "11493376/11490434 [==============================] - 18s 2us/step\n",
      "0 [D loss: 0.00029180149431340396, acc.: 100.00%] [G loss: 1.1831770279968623e-05]\n"
=======
      "/Library/Frameworks/Python.framework/Versions/3.6/lib/python3.6/site-packages/keras/models.py:288: UserWarning: Error in loading the saved optimizer state. As a result, your model is starting with a freshly initialized optimizer.\n",
      "  warnings.warn('Error in loading the saved optimizer '\n"
>>>>>>> c388b41b0b6d0e622e89f616442ab1d48e566606
     ]
    }
   ],
   "source": [
    "# Load the saved model files. Comment out (or don't run) this block if you want to start with fresh models.\n",
    "from keras.models import load_model\n",
    "\n",
    "generator = load_model('generator.h5')\n",
    "discriminator = load_model('discriminator.h5')\n",
    "combined = load_model('combined.h5')"
   ]
  },
  {
   "cell_type": "code",
<<<<<<< HEAD
   "execution_count": 28,
=======
   "execution_count": 11,
>>>>>>> c388b41b0b6d0e622e89f616442ab1d48e566606
   "metadata": {},
   "outputs": [
    {
     "data": {
      "text/plain": [
<<<<<<< HEAD
       "<matplotlib.image.AxesImage at 0x120b90128>"
      ]
     },
     "execution_count": 28,
=======
       "<matplotlib.image.AxesImage at 0x11e66c780>"
      ]
     },
     "execution_count": 11,
>>>>>>> c388b41b0b6d0e622e89f616442ab1d48e566606
     "metadata": {},
     "output_type": "execute_result"
    },
    {
     "data": {
<<<<<<< HEAD
      "image/png": "iVBORw0KGgoAAAANSUhEUgAAAP8AAAD8CAYAAAC4nHJkAAAABHNCSVQICAgIfAhkiAAAAAlwSFlz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\nNUgaf4qAAAAAAElFTkSuQmCC\n",
      "text/plain": [
       "<matplotlib.figure.Figure at 0x11f913208>"
=======
      "image/png": "iVBORw0KGgoAAAANSUhEUgAAAP8AAAD8CAYAAAC4nHJkAAAABHNCSVQICAgIfAhkiAAAAAlwSFlz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\nDwRF+IGgCD8QFOEHgiL8QFCEHwjq/wALgLRj9/sORAAAAABJRU5ErkJggg==\n",
      "text/plain": [
       "<matplotlib.figure.Figure at 0x11b72d748>"
>>>>>>> c388b41b0b6d0e622e89f616442ab1d48e566606
      ]
     },
     "metadata": {},
     "output_type": "display_data"
    }
   ],
   "source": [
    "show_new_image(generator)"
   ]
  },
  {
<<<<<<< HEAD
   "cell_type": "code",
   "execution_count": 29,
   "metadata": {
    "collapsed": true
   },
   "outputs": [],
=======
   "cell_type": "markdown",
   "metadata": {},
>>>>>>> c388b41b0b6d0e622e89f616442ab1d48e566606
   "source": [
    "# Exercise Option 1\n",
    "Change the model so that it learns to produce 9x9 images of horizontal lines (or some other pattern)."
   ]
  },
  {
<<<<<<< HEAD
   "cell_type": "code",
   "execution_count": null,
   "metadata": {
    "collapsed": true
   },
   "outputs": [],
   "source": []
=======
   "cell_type": "markdown",
   "metadata": {},
   "source": [
    "# Exercise Option 2 (More Challenging)\n",
    "Change the model so that you can select which number you get an image of rather than always getting a random one."
   ]
>>>>>>> c388b41b0b6d0e622e89f616442ab1d48e566606
  }
 ],
 "metadata": {
  "kernelspec": {
   "display_name": "Python 3",
   "language": "python",
   "name": "python3"
  },
  "language_info": {
   "codemirror_mode": {
    "name": "ipython",
    "version": 3
   },
   "file_extension": ".py",
   "mimetype": "text/x-python",
   "name": "python",
   "nbconvert_exporter": "python",
   "pygments_lexer": "ipython3",
   "version": "3.6.4"
  }
 },
 "nbformat": 4,
 "nbformat_minor": 2
}
